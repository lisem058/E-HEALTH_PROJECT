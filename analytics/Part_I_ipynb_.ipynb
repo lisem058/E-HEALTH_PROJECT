{
  "nbformat": 4,
  "nbformat_minor": 0,
  "metadata": {
    "colab": {
      "name": "Part I.ipynb_",
      "provenance": [],
      "collapsed_sections": []
    },
    "kernelspec": {
      "name": "python3",
      "display_name": "Python 3"
    },
    "language_info": {
      "name": "python"
    }
  },
  "cells": [
    {
      "cell_type": "markdown",
      "source": [
        "# Part I\n"
      ],
      "metadata": {
        "id": "xuiTIZD-RkrB"
      }
    },
    {
      "cell_type": "markdown",
      "source": [
        "Here we are downloading the results (though we're saving it here as SeriousStaff.csv and then using g_f1.csv)."
      ],
      "metadata": {
        "id": "DIDCgPwlRyhj"
      }
    },
    {
      "cell_type": "markdown",
      "source": [
        "## Table of Contents\n",
        "\n",
        "   1. [Data Exploration](#section_1)\n",
        "   2. [Word Processing](#section_2)"
      ],
      "metadata": {
        "id": "Z82-rgCBSRDN"
      }
    },
    {
      "cell_type": "code",
      "metadata": {
        "id": "pQPhFogyYcnd"
      },
      "source": [
        "import pandas as pd\n",
        "import matplotlib.pyplot as plt\n",
        "from sklearn.cluster import KMeans\n",
        "from sklearn.datasets import make_blobs\n",
        "import numpy as np\n",
        "import json"
      ],
      "execution_count": null,
      "outputs": []
    },
    {
      "cell_type": "code",
      "metadata": {
        "colab": {
          "base_uri": "https://localhost:8080/"
        },
        "id": "nBs0WuVKYtKx",
        "outputId": "cf5c1ea2-0be9-4d13-b040-61b1b68e304c"
      },
      "source": [
        "from google.colab import drive\n",
        "drive.mount('/content/drive')"
      ],
      "execution_count": null,
      "outputs": [
        {
          "output_type": "stream",
          "name": "stdout",
          "text": [
            "Mounted at /content/drive\n"
          ]
        }
      ]
    },
    {
      "cell_type": "code",
      "metadata": {
        "id": "P-_n69KyYwO-"
      },
      "source": [
        "! pip install -q kaggle\n",
        "from google.colab import files"
      ],
      "execution_count": null,
      "outputs": []
    },
    {
      "cell_type": "code",
      "metadata": {
        "colab": {
          "resources": {
            "http://localhost:8080/nbextensions/google.colab/files.js": {
              "data": "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",
              "ok": true,
              "headers": [
                [
                  "content-type",
                  "application/javascript"
                ]
              ],
              "status": 200,
              "status_text": ""
            }
          },
          "base_uri": "https://localhost:8080/",
          "height": 90
        },
        "id": "cFK9Vh5_c4N6",
        "outputId": "246dc85d-b071-48e8-fdea-99ddbdbd1163"
      },
      "source": [
        "files.upload()"
      ],
      "execution_count": null,
      "outputs": [
        {
          "output_type": "display_data",
          "data": {
            "text/html": [
              "\n",
              "     <input type=\"file\" id=\"files-32bd569e-2ad7-41aa-bbdf-7209856e63c2\" name=\"files[]\" multiple disabled\n",
              "        style=\"border:none\" />\n",
              "     <output id=\"result-32bd569e-2ad7-41aa-bbdf-7209856e63c2\">\n",
              "      Upload widget is only available when the cell has been executed in the\n",
              "      current browser session. Please rerun this cell to enable.\n",
              "      </output>\n",
              "      <script src=\"/nbextensions/google.colab/files.js\"></script> "
            ],
            "text/plain": [
              "<IPython.core.display.HTML object>"
            ]
          },
          "metadata": {}
        },
        {
          "output_type": "stream",
          "name": "stdout",
          "text": [
            "Saving kaggle.json to kaggle.json\n"
          ]
        },
        {
          "output_type": "execute_result",
          "data": {
            "text/plain": [
              "{'kaggle.json': b'{\"username\":\"nikitarozov\",\"key\":\"9595eb57a7d29634a878701ac195d205\"}'}"
            ]
          },
          "metadata": {},
          "execution_count": 4
        }
      ]
    },
    {
      "cell_type": "code",
      "metadata": {
        "id": "5y9hO4sQc_8v"
      },
      "source": [
        "!rm -r ~/.kaggle\n",
        "!mkdir ~/.kaggle\n",
        "!mv ./kaggle.json ~/.kaggle/\n",
        "!chmod 600 ~/.kaggle/kaggle.json\n",
        "!kaggle datasets list"
      ],
      "execution_count": null,
      "outputs": []
    },
    {
      "cell_type": "code",
      "metadata": {
        "id": "fLp-kV7-hFmw",
        "colab": {
          "base_uri": "https://localhost:8080/"
        },
        "outputId": "31c2e422-b37c-469e-fee6-653f734852cf"
      },
      "source": [
        "!kaggle datasets download -d gauthamp10/google-playstore-apps"
      ],
      "execution_count": null,
      "outputs": [
        {
          "output_type": "stream",
          "name": "stdout",
          "text": [
            "Downloading google-playstore-apps.zip to /content\n",
            " 98% 202M/207M [00:01<00:00, 157MB/s]\n",
            "100% 207M/207M [00:01<00:00, 142MB/s]\n"
          ]
        }
      ]
    },
    {
      "cell_type": "code",
      "metadata": {
        "id": "2Xc7h0lgWzO3",
        "colab": {
          "base_uri": "https://localhost:8080/"
        },
        "outputId": "e5be8488-baf3-4121-e83a-212b7346661d"
      },
      "source": [
        "!unzip google-playstore-apps.zip "
      ],
      "execution_count": null,
      "outputs": [
        {
          "output_type": "stream",
          "name": "stdout",
          "text": [
            "Archive:  google-playstore-apps.zip\n",
            "  inflating: Google-Playstore.csv    \n"
          ]
        }
      ]
    },
    {
      "cell_type": "code",
      "metadata": {
        "id": "kHlDKZm_XFWE"
      },
      "source": [
        "data = pd.read_csv('Google-Playstore.csv')\n",
        "data.head()"
      ],
      "execution_count": null,
      "outputs": []
    },
    {
      "cell_type": "markdown",
      "source": [
        "<div id='section_1'></div> \n",
        "\n",
        "# Data Exploration"
      ],
      "metadata": {
        "id": "0vN0j3jfSZ6B"
      }
    },
    {
      "cell_type": "markdown",
      "metadata": {
        "id": "JBrI7uJ6YmO5"
      },
      "source": [
        "Lets look at the data values in most important columns to check the dataset consistency\n"
      ]
    },
    {
      "cell_type": "code",
      "metadata": {
        "id": "PlJ4BCAYXiiY"
      },
      "source": [
        "print(data.Category.unique())\n",
        "print(data.Rating.unique())\n",
        "print(data[\"Rating Count\"].unique())\n",
        "print(data.Free.unique())\n",
        "print(data.Price.unique())\n",
        "print(data[\"Last Updated\"].unique())\n",
        "print(data['Content Rating'].unique())\n",
        "print(data.dtypes)"
      ],
      "execution_count": null,
      "outputs": []
    },
    {
      "cell_type": "code",
      "metadata": {
        "id": "3YMkqVmwl0i_"
      },
      "source": [
        "from matplotlib.pyplot import figure\n",
        "figure(figsize=(12, 6), dpi=80)\n",
        "data['Rating'].plot.box()"
      ],
      "execution_count": null,
      "outputs": []
    },
    {
      "cell_type": "code",
      "metadata": {
        "id": "pHlz8SHLqQ8O"
      },
      "source": [
        "figure(figsize=(20, 6), dpi=80)\n",
        "data.sort_values('Minimum Installs')['Installs'].hist()"
      ],
      "execution_count": null,
      "outputs": []
    },
    {
      "cell_type": "code",
      "metadata": {
        "colab": {
          "base_uri": "https://localhost:8080/"
        },
        "id": "zAgEa9TZFjPZ",
        "outputId": "a5c610cf-44e9-40ee-b370-fb9243b084c8"
      },
      "source": [
        "data['Minimum Installs'].quantile(q=0.9)"
      ],
      "execution_count": null,
      "outputs": [
        {
          "output_type": "execute_result",
          "data": {
            "text/plain": [
              "100000.0"
            ]
          },
          "metadata": {},
          "execution_count": 18
        }
      ]
    },
    {
      "cell_type": "code",
      "metadata": {
        "id": "XVTDL81fYylV"
      },
      "source": [
        "education_data = data[data['Category'] == 'Education']\n",
        "education_data.iloc[0]"
      ],
      "execution_count": null,
      "outputs": []
    },
    {
      "cell_type": "code",
      "metadata": {
        "id": "w8QHZapMZ9zl"
      },
      "source": [
        "!pip install google-play-scraper\n",
        "from google_play_scraper import app\n",
        "result = app(education_data.iloc[0]['App Id'],\n",
        "              lang='en',\n",
        "              country='us' )\n",
        "result['description']"
      ],
      "execution_count": null,
      "outputs": []
    },
    {
      "cell_type": "code",
      "metadata": {
        "id": "ZAnIXcbynrHk"
      },
      "source": [
        "result1 = app(\"uz.yoqub.enuzaudio\",\n",
        "              lang='en',\n",
        "              country='us' )\n",
        "result1"
      ],
      "execution_count": null,
      "outputs": []
    },
    {
      "cell_type": "code",
      "metadata": {
        "id": "b3W__qClpohv"
      },
      "source": [
        "serious_dataset = data[(((data[\"Category\"]==\"Education\") | (data[\"Category\"]==\"Educational\")) & (data[\"Rating\"]>=4.3) & (data[\"Maximum Installs\"]>=50000))]\n",
        "serious_dataset"
      ],
      "execution_count": null,
      "outputs": []
    },
    {
      "cell_type": "code",
      "metadata": {
        "id": "uSpku7ANsnM_"
      },
      "source": [
        "print(serious_dataset['App Name'].nunique()) # there are some duplication s olets keep last by sorting by installs\n",
        "serious_dataset = serious_dataset.sort_values('Maximum Installs')\n",
        "serious_dataset.head()"
      ],
      "execution_count": null,
      "outputs": []
    },
    {
      "cell_type": "code",
      "metadata": {
        "id": "Tt5LvBh8tBxO"
      },
      "source": [
        "serious_dataset = serious_dataset.drop_duplicates(subset=['App Name'], keep=\"last\")"
      ],
      "execution_count": null,
      "outputs": []
    },
    {
      "cell_type": "code",
      "metadata": {
        "id": "Z1lYBWZMvLgJ"
      },
      "source": [
        "print(serious_dataset.shape)"
      ],
      "execution_count": null,
      "outputs": []
    },
    {
      "cell_type": "code",
      "metadata": {
        "id": "YHa08QVrvsa5"
      },
      "source": [
        "def get_description(name_id):\n",
        "  try:\n",
        "    result = app(name_id,\n",
        "                lang='en',\n",
        "                country='us')\n",
        "    return result['description']\n",
        "  except:\n",
        "    return \"No description\"\n",
        "\n",
        "\n",
        "dataset['Description'] = serious_dataset['App Id'].apply(get_description)\n",
        "serious_dataset.head()"
      ],
      "execution_count": null,
      "outputs": []
    },
    {
      "cell_type": "code",
      "metadata": {
        "id": "G2OtFrMgyqix"
      },
      "source": [
        "serious_dataset.to_csv('/content/drive/My Drive/EhealthData/serious_dataset.csv', index=False)"
      ],
      "execution_count": null,
      "outputs": []
    },
    {
      "cell_type": "markdown",
      "metadata": {
        "id": "gZ_qUGj7bvj-"
      },
      "source": [
        "Which field of science the application should be related to"
      ]
    },
    {
      "cell_type": "code",
      "metadata": {
        "id": "LodYrx3T8frj"
      },
      "source": [
        "data = pd.read_csv(\"/content/drive/My Drive/EhealthData/serious_dataset.csv\")\n",
        "data.head()"
      ],
      "execution_count": null,
      "outputs": []
    },
    {
      "cell_type": "code",
      "metadata": {
        "id": "2H19Tiosxn_J"
      },
      "source": [
        "def get_summary(name_id):\n",
        "  try:\n",
        "    result = app(name_id,\n",
        "                lang='en',\n",
        "                country='us')\n",
        "    return result['summary']\n",
        "  except:\n",
        "    return \"No summary\"\n",
        "data['Summary'] = data['App Id'].apply(get_summary)\n",
        "data.to_csv('/content/drive/My Drive/EhealthData/serious_dataset.csv', index=False)"
      ],
      "execution_count": null,
      "outputs": []
    },
    {
      "cell_type": "code",
      "metadata": {
        "id": "2YEQCW9PSN1l"
      },
      "source": [
        "data.head()"
      ],
      "execution_count": null,
      "outputs": []
    },
    {
      "cell_type": "code",
      "metadata": {
        "id": "YhNTW1-xM36A"
      },
      "source": [
        "my_part = data.iloc[200:230]\n",
        "my_part['summary']= ''\n",
        "my_part = my_part[['App Name','App Id', 'Description']]\n",
        "my_part.to_csv(\"mypart.csv\")"
      ],
      "execution_count": null,
      "outputs": []
    },
    {
      "cell_type": "markdown",
      "metadata": {
        "id": "U2POIZ1a9kBn"
      },
      "source": [
        "We looked in oxford dictionary to find the synonyms for the word learning"
      ]
    },
    {
      "cell_type": "code",
      "metadata": {
        "id": "1tG7zCBs8s60"
      },
      "source": [
        "from google.colab import files\n",
        "files.upload()"
      ],
      "execution_count": null,
      "outputs": []
    },
    {
      "cell_type": "code",
      "metadata": {
        "id": "b_FsRfc-pvYQ"
      },
      "source": [
        "files.upload()"
      ],
      "execution_count": null,
      "outputs": []
    },
    {
      "cell_type": "code",
      "metadata": {
        "id": "T8POyER_AWIW"
      },
      "source": [
        "with open('learning dictionary.txt') as f:\n",
        "    learning_words = f.readlines()\n",
        "with open('game dictionary.txt') as f:\n",
        "    play_words = f.readlines()\n",
        "print(learning_words)\n",
        "print(play_words)"
      ],
      "execution_count": null,
      "outputs": []
    },
    {
      "cell_type": "code",
      "metadata": {
        "id": "jFgWE0RbBPEB"
      },
      "source": [
        "for w in range(learning_words.__len__()):\n",
        "  learning_words[w] = learning_words[w][0:-1]\n",
        "learning_words = list(dict.fromkeys(learning_words))\n",
        "learning_words.pop() #removing empty symbol\n",
        "for w in range(play_words.__len__()):\n",
        "  play_words[w] = play_words[w][0:-1]\n",
        "play_words = list(dict.fromkeys(play_words))\n",
        "print(play_words)\n",
        "print(learning_words)"
      ],
      "execution_count": null,
      "outputs": []
    },
    {
      "cell_type": "code",
      "metadata": {
        "id": "WnyIpyDzB7W2"
      },
      "source": [
        "def count_entrances(str1):\n",
        "  counter = 0\n",
        "  for d in learning_words:\n",
        "    counter += str1.count(d)\n",
        "  return counter\n",
        "\n",
        "def count_entrances1(str1):\n",
        "  counter = 0\n",
        "  for d in play_words:\n",
        "    counter += str1.count(d)\n",
        "  return counter\n",
        "data[\"Learning_frequency\"] = data.Description.apply(count_entrances)\n",
        "data[\"Gaming_frequency\"] = data.Description.apply(count_entrances1)"
      ],
      "execution_count": null,
      "outputs": []
    },
    {
      "cell_type": "code",
      "metadata": {
        "id": "O8UhnkiODyOt"
      },
      "source": [
        "data.head() "
      ],
      "execution_count": null,
      "outputs": []
    },
    {
      "cell_type": "code",
      "metadata": {
        "id": "lQ5ppGdYDNtq"
      },
      "source": [
        "print(data['Learning_frequency'].value_counts())\n",
        "print(data['Gaming_frequency'].value_counts())"
      ],
      "execution_count": null,
      "outputs": []
    },
    {
      "cell_type": "code",
      "metadata": {
        "id": "6TuFgk3EEqvb"
      },
      "source": [
        "data['Content Rating'].value_counts()"
      ],
      "execution_count": null,
      "outputs": []
    },
    {
      "cell_type": "code",
      "metadata": {
        "id": "d2OL-A3AG9mE"
      },
      "source": [
        "candidat_data = data[((data['Content Rating']=='Everyone') & (data['Gaming_frequency']>=2) & (data['Learning_frequency']>=4))]\n",
        "candidat_data.shape #1229, 1213"
      ],
      "execution_count": null,
      "outputs": []
    },
    {
      "cell_type": "code",
      "metadata": {
        "id": "ek25ZvjzHmPo"
      },
      "source": [
        "candidat_data"
      ],
      "execution_count": null,
      "outputs": []
    },
    {
      "cell_type": "markdown",
      "metadata": {
        "id": "BhUB-9aMzH_l"
      },
      "source": [
        "Lets find application similar to duolinguo"
      ]
    },
    {
      "cell_type": "code",
      "metadata": {
        "id": "zqZf09neLRMT"
      },
      "source": [
        "duo = candidat_data[candidat_data['App Name'].str.contains('Duolingo', regex=False)]\n",
        "duo"
      ],
      "execution_count": null,
      "outputs": []
    },
    {
      "cell_type": "code",
      "metadata": {
        "id": "noNruE8F3DkM"
      },
      "source": [
        "result = app(duo.iloc[0]['App Id'],\n",
        "            lang='en',\n",
        "            country='us')\n",
        "result['similarApps']"
      ],
      "execution_count": null,
      "outputs": []
    },
    {
      "cell_type": "code",
      "metadata": {
        "id": "yV1Vf-lK5kqB"
      },
      "source": [
        "similar_data = candidat_data[candidat_data['App Id'].isin(result['similarApps'])]\n",
        "similar_data.head()"
      ],
      "execution_count": null,
      "outputs": []
    },
    {
      "cell_type": "code",
      "metadata": {
        "id": "lmTDyqIa7gvm"
      },
      "source": [
        "candidat_data.to_csv('/content/drive/My Drive/EhealthData/candidat_dataset.csv') #(Category=[\"Education\",\"Educational\"], Rating>=4.3, Gaming_frequency>=2,Learning_frequency>=4,Content Rating=Everyone))"
      ],
      "execution_count": null,
      "outputs": []
    },
    {
      "cell_type": "code",
      "metadata": {
        "colab": {
          "base_uri": "https://localhost:8080/"
        },
        "id": "BwhJYtLH4JSk",
        "outputId": "e74ae1ed-30b1-445a-fa7c-90c4286111fd"
      },
      "source": [
        "test_dataset = pd.read_csv(\"/content/drive/My Drive/EhealthData/Serious Staff.csv\")\n",
        "candidat_dataset = pd.read_csv(\"/content/drive/My Drive/EhealthData/candidat_dataset.csv\")\n",
        "test_set = set(test_dataset[(test_dataset['Serious']=='Yes') | (test_dataset['Serious']=='Y')|(test_dataset['Serious']=='yes')]['App Name'])\n",
        "candidat_dataset = set(candidat_dataset['App Name'])\n",
        "z = test_set.intersection(candidat_dataset)\n",
        "set_recall = len(z) / len(test_set)\n",
        "print(set_recall)"
      ],
      "execution_count": null,
      "outputs": [
        {
          "output_type": "stream",
          "name": "stdout",
          "text": [
            "0.275\n"
          ]
        }
      ]
    },
    {
      "cell_type": "code",
      "metadata": {
        "colab": {
          "base_uri": "https://localhost:8080/"
        },
        "id": "pX5t3ESD-PRq",
        "outputId": "2f4667a9-a7df-4e7d-8ec3-4da7f149fd9d"
      },
      "source": [
        "g_1_f_1 = data[((data['Content Rating']=='Everyone') & (data['Gaming_frequency']>=1) & (data['Learning_frequency']>=1))]\n",
        "#candidatg1_f1 = my_part data.iloc[200:230,160:190,130:160,300:450,500:550]\n",
        "candidat_dataset = set(g_1_f_1['App Name'])\n",
        "z = test_set.intersection(candidat_dataset)\n",
        "set_recall = len(z) / len(test_set)\n",
        "for (a)  \n",
        "print(set_recall)\n",
        "g_1_f_1.shape #1229, 1213"
      ],
      "execution_count": null,
      "outputs": [
        {
          "output_type": "stream",
          "name": "stdout",
          "text": [
            "0.5\n"
          ]
        },
        {
          "output_type": "execute_result",
          "data": {
            "text/plain": [
              "(2869, 28)"
            ]
          },
          "metadata": {},
          "execution_count": 29
        }
      ]
    },
    {
      "cell_type": "code",
      "metadata": {
        "id": "7McY40rvLAMm"
      },
      "source": [
        "g1_f1 = g_1_f_1.drop(columns=['Gaming_frequency','Learning_frequency','Summary'])\n",
        "g1_f1.to_csv(\"/content/drive/My Drive/EhealthData/g1_f1.csv\")"
      ],
      "execution_count": null,
      "outputs": []
    },
    {
      "cell_type": "markdown",
      "source": [
        "<div id='section_2'></div> \n",
        "\n",
        "# Words processing"
      ],
      "metadata": {
        "id": "rv4g3ISmSleV"
      }
    },
    {
      "cell_type": "markdown",
      "metadata": {
        "id": "zyT0JXzpP8px"
      },
      "source": [
        "Using lemmatizer for analyzing description"
      ]
    },
    {
      "cell_type": "code",
      "metadata": {
        "id": "QKHLuwn5P8Qi"
      },
      "source": [
        "!pip install ntlk\n",
        "import nltk\n",
        "nltk.download('punkt')\n",
        "nltk.download(\"wordnet\")\n",
        "from nltk.stem import WordNetLemmatizer\n",
        "wordnet_lemmatizer = WordNetLemmatizer()\n",
        "\n",
        "#sentence = \"In this tutorial, we first define what we mean by area, and then we calculate the area under a curve by first approximating the area with rectangles and then making the width of the rectangles approach zero.\\r\\n \\r\\nIn the late 1600s, mathematicians discovered a much easier way to calculate the area under a curve, called The Fundamental Theorem of Calculus. This discovery started with the calculation of the slope of a tangent.\\r\\nIn the second part of this tutorial, we define the slope of the tangent to a curve, and we look at the connection between areas and tangents. \\r\\n\\r\\n\\r\\n* Aimed at students in their final two years of high school.\\r\\n\\r\\n* Studying mathematics is best done by working through examples and exercises. There are many interactive examples and exercises in this tutorial that must be completed to achieve 100% progress.\\r\\n\\r\\n* Written by a Maths teacher with 20 years of teaching experience.\\r\\n\\r\\n* Completely free (no Ads).\\r\\n\\r\\n* Works without internet so that you can learn while travelling in the train, bus etc.\\r\\n\\r\\n* Made with GameMaker (www.yoyogames.com)\\r\\n\\r\\n* Only a 14 MB download.\\r\\n\\r\\nAlso available on Google Play:\\r\\n * Calculus Tutorial 2: Limits\\r\\n * Calculus Tutorial 3: Continuous Functions\\r\\n * Calculus Tutorial 4: Derivative of a Function\\r\\n * Calculus Tutorial 4B: Velocity and Acceleration\\r\\n * Calculus Tutorial 5: Derivative of a Function II\\r\\n * Calculus Tutorial 6: Derivative of Trig Functions\\r\\n * Calculus Tutorial 7: Chain Rule Differentiation\\r\\n * Calculus Tutorial 8: Derivative of Inverse Functions\\r\\n * Calculus Tutorial 9: Implicit Differentiation\"\n",
        "sentence = \"in in the in the\"\n",
        "punctuations=\"?:!.,;*()#$!@^&_-+=\"\n",
        "sentence_words = nltk.word_tokenize(sentence)\n",
        "for word in sentence_words:\n",
        "    if word in punctuations:\n",
        "        sentence_words.remove(word)\n",
        "\n",
        "print(sentence_words)\n",
        "print(\"{0:40}{1:40}\".format(\"Word\",\"Lemma\"))\n",
        "for word in sentence_words:\n",
        "    print (\"{0:20}{1:20}\".format(word,wordnet_lemmatizer.lemmatize(word, pos=\"v\")))"
      ],
      "execution_count": null,
      "outputs": []
    },
    {
      "cell_type": "code",
      "metadata": {
        "id": "lDquu_xDVOJI"
      },
      "source": [
        "data = pd.read_csv(\"/content/drive/My Drive/EhealthData/serious_dataset.csv\")\n",
        "data.head()"
      ],
      "execution_count": null,
      "outputs": []
    },
    {
      "cell_type": "code",
      "metadata": {
        "id": "BbonO8WTVScu"
      },
      "source": [
        "from google.colab import files\n",
        "files.upload()"
      ],
      "execution_count": null,
      "outputs": []
    },
    {
      "cell_type": "code",
      "metadata": {
        "id": "UGBFaVrlVXVN"
      },
      "source": [
        "files.upload()"
      ],
      "execution_count": null,
      "outputs": []
    },
    {
      "cell_type": "code",
      "metadata": {
        "id": "9xDyOdnjVpyJ"
      },
      "source": [
        "with open('learning dictionary.txt') as f:\n",
        "    learning_words = f.readlines()\n",
        "with open('game dictionary.txt') as f:\n",
        "    play_words = f.readlines()\n",
        "print(learning_words)\n",
        "print(play_words)"
      ],
      "execution_count": null,
      "outputs": []
    },
    {
      "cell_type": "code",
      "metadata": {
        "id": "WTfscTAVVr9b"
      },
      "source": [
        "for w in range(learning_words.__len__()):\n",
        "  learning_words[w] = learning_words[w][0:-1]\n",
        "learning_words = list(dict.fromkeys(learning_words))\n",
        "learning_words.pop() #removing empty symbol\n",
        "for w in range(play_words.__len__()):\n",
        "  play_words[w] = play_words[w][0:-1]\n",
        "play_words = list(dict.fromkeys(play_words))\n",
        "print(play_words)\n",
        "print(learning_words)"
      ],
      "execution_count": null,
      "outputs": []
    },
    {
      "cell_type": "markdown",
      "metadata": {
        "id": "7R1rXthIWbkx"
      },
      "source": [
        "Making lemma text"
      ]
    },
    {
      "cell_type": "code",
      "metadata": {
        "id": "m6WfYS3vWa0F"
      },
      "source": [
        "import re\n",
        "r = re.compile(r'[^a-z ]')\n",
        "\n",
        "def lemmat(sentence):\n",
        "  sentence = sentence.replace('/',' ')\n",
        "  sentence = sentence.replace('>',' ')\n",
        "  sentence = sentence.lower()\n",
        "  sentence = r.sub('', sentence)\n",
        "  sentence_words = nltk.word_tokenize(sentence)\n",
        "  \n",
        "  new_sentence = list()\n",
        "  for word in sentence_words:\n",
        "    if(word.__len__() > 2):\n",
        "      new_sentence.append(wordnet_lemmatizer.lemmatize(word, pos=\"v\")) \n",
        "  return new_sentence\n",
        "\n",
        "data['Lemmatize'] = data['Description'].apply(lemmat)\n",
        "data.head()"
      ],
      "execution_count": null,
      "outputs": []
    },
    {
      "cell_type": "code",
      "metadata": {
        "id": "aBTKpYHNX8YH"
      },
      "source": [
        "data['Description'].iloc[0]"
      ],
      "execution_count": null,
      "outputs": []
    },
    {
      "cell_type": "code",
      "metadata": {
        "id": "MS8etsc7V9dk"
      },
      "source": [
        "def count_entrances(str1):\n",
        "  counter = 0\n",
        "  for d in learning_words:\n",
        "    counter += str1.count(d)\n",
        "  return counter\n",
        "\n",
        "def count_entrances1(str1):\n",
        "  counter = 0\n",
        "  for d in play_words:\n",
        "    counter += str1.count(d)\n",
        "  return counter\n",
        "data[\"Learning_frequency\"] = data.Lemmatize.apply(count_entrances)\n",
        "data[\"Gaming_frequency\"] = data.Lemmatize.apply(count_entrances1)\n",
        "data.head()"
      ],
      "execution_count": null,
      "outputs": []
    },
    {
      "cell_type": "code",
      "metadata": {
        "id": "_G9pw8CziyZ1"
      },
      "source": [
        "str1 = (data['Lemmatize'][data['App Name']=='Sunil Minglani'].to_string())\n",
        "print(str1)"
      ],
      "execution_count": null,
      "outputs": []
    },
    {
      "cell_type": "code",
      "metadata": {
        "id": "x4MiupmUbntT"
      },
      "source": [
        "candidat_data = data[((data['Content Rating']=='Everyone') & (data['Gaming_frequency']>=1) & (data['Learning_frequency']>=2))]\n",
        "candidat_data.shape #329,445"
      ],
      "execution_count": null,
      "outputs": []
    },
    {
      "cell_type": "code",
      "metadata": {
        "id": "9UOHgAndmL-D"
      },
      "source": [
        "candidat_data.to_csv('/content/drive/My Drive/EhealthData/Lemma_dataset.csv') #(Category=[\"Education\",\"Educational\"], Rating>=4.3, Gaming_frequency>=2,Learning_frequency>=4,Content Rating=Everyone))"
      ],
      "execution_count": null,
      "outputs": []
    },
    {
      "cell_type": "code",
      "metadata": {
        "id": "CVX9sfeAnSez",
        "colab": {
          "base_uri": "https://localhost:8080/"
        },
        "outputId": "908b4121-69e0-4814-b570-5aacb7ab6657"
      },
      "source": [
        "test_dataset = pd.read_csv(\"/content/drive/My Drive/EhealthData/Serious Staff.csv\")\n",
        "candidat_dataset = pd.read_csv(\"/content/drive/My Drive/EhealthData/Lemma_dataset.csv\")\n",
        "test_set = set(test_dataset[test_dataset['Serious']=='Y']['App Name'])\n",
        "candidat_dataset = set(candidat_dataset['App Name'])\n",
        "z = test_set.intersection(candidat_dataset)\n",
        "set_recall = len(z) / len(test_set)\n",
        "print(set_recall)"
      ],
      "execution_count": null,
      "outputs": [
        {
          "output_type": "stream",
          "name": "stdout",
          "text": [
            "0.0\n"
          ]
        }
      ]
    }
  ]
}